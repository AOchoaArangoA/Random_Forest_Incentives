{
 "cells": [
  {
   "cell_type": "markdown",
   "id": "44f1724f",
   "metadata": {
    "slideshow": {
     "slide_type": "slide"
    }
   },
   "source": [
    "# Innovación e Incentivos dentro de las Organizaciones: Una estimación predicativa con modelos de Machine Learning \n",
    "### Andres Ochoa Arango \n",
    "En este trabajo se realiza un estudio economico sobre la posible importancia que poseen los procesos innovadores y los sistemas de incentivos sobre los indicadores relacionados a las ventas de las entidades. La finalidad que tiene el siguiente trabajo, es mostrar de manera empírica los posibles cambios que pueden presentarse dentro las entidades que se encuentran en la encuesta de Desarrollo e Innovación Tecnológica, teniendo las variables como las ventas del año $t+1$, con respecto a las inversiones en diferentes aspectos del periodo $t$ y las variables en temas de incentivos que repercuten en el análisis. En este repositorio se encuentra el trabajo escrito de este analisis. "
   ]
  },
  {
   "cell_type": "markdown",
   "id": "a2b616a5",
   "metadata": {
    "slideshow": {
     "slide_type": "slide"
    }
   },
   "source": [
    "## Librerias utilizadas"
   ]
  },
  {
   "cell_type": "code",
   "execution_count": 2,
   "id": "959fad1c",
   "metadata": {
    "slideshow": {
     "slide_type": "subslide"
    }
   },
   "outputs": [
    {
     "name": "stderr",
     "output_type": "stream",
     "text": [
      "C:\\Program Files\\Anaconda3\\lib\\site-packages\\scipy\\__init__.py:146: UserWarning: A NumPy version >=1.16.5 and <1.23.0 is required for this version of SciPy (detected version 1.23.1\n",
      "  warnings.warn(f\"A NumPy version >={np_minversion} and <{np_maxversion}\"\n"
     ]
    }
   ],
   "source": [
    "import pandas as pd \n",
    "import numpy as np\n",
    "from sklearn import decomposition \n",
    "from sklearn.preprocessing import scale\n",
    "from sklearn.model_selection import train_test_split\n",
    "from sklearn.tree import DecisionTreeClassifier\n",
    "from sklearn.metrics import confusion_matrix\n",
    "from sklearn.ensemble import RandomForestClassifier\n",
    "import matplotlib.pyplot as plt\n",
    "import seaborn as sns\n",
    "import statsmodels.api as sm\n",
    "from sklearn.model_selection import GridSearchCV\n",
    "from sklearn.metrics import accuracy_score\n",
    "from sklearn.metrics import precision_score, recall_score, f1_score\n",
    "import warnings\n",
    "import statsmodels.api as sm\n",
    "\n",
    "warnings.filterwarnings(\"ignore\")"
   ]
  },
  {
   "cell_type": "markdown",
   "id": "a2447042",
   "metadata": {
    "slideshow": {
     "slide_type": "slide"
    }
   },
   "source": [
    "## Pasos para realizar la estimación\n",
    "* Definir y organizar la variable independiente\n",
    "* Realizar los primeros acercamientos utilizando herramientas básicas (Se usa la variable dependiente de forma continua)\n",
    "* Estimación con un modelo no paramétrico.\n",
    "* GridSeach-Selección del modelo \n",
    "* Estimar los resultados.\n"
   ]
  },
  {
   "cell_type": "markdown",
   "id": "6e75e262",
   "metadata": {},
   "source": [
    "## Importación Bases de Datos"
   ]
  },
  {
   "cell_type": "code",
   "execution_count": 3,
   "id": "4b4a562f",
   "metadata": {},
   "outputs": [],
   "source": [
    "inno = pd.read_excel('./Data/Innovacion.xlsx')\n",
    "ince = pd.read_excel('./Data/Incentivos.xlsx')\n",
    "inno2= inno.copy()\n",
    "ince2 = ince.copy() "
   ]
  },
  {
   "cell_type": "markdown",
   "id": "2805a7a3",
   "metadata": {
    "slideshow": {
     "slide_type": "slide"
    }
   },
   "source": [
    "## Variable dependiente\n",
    "En este caso se utilizaron las ventas para el año t+1. En el caso de la base de datos de innovación se emplea la información de la encuesta desarrollada en 2016 y 2018. Para el caso de los incentivos se empleó la encuesta desarrollada en 2018. La variable dependiente es la tendencia de las ventas. Definida como un umbral: Si se encuentra por encima de mediana se define como 1, de lo contrario se define como 0."
   ]
  },
  {
   "cell_type": "code",
   "execution_count": 3,
   "id": "60a9366b",
   "metadata": {
    "slideshow": {
     "slide_type": "subslide"
    }
   },
   "outputs": [],
   "source": [
    "\n",
    "def Organizador(df, cual,media=True): \n",
    "    #cual: 1 innovacion, 0 incentivos\n",
    "    if media == True: \n",
    "        df['Tendencias'] = np.where(df['I3R2C1'] > df['I3R2C1'].mean(),1, 0)\n",
    "    else: \n",
    "        df['Tendencias'] = np.where(df['I3R2C1'] >= df['I3R2C1'].median(),1, 0)\n",
    "    \n",
    "    if cual == 1: \n",
    "        df['I1R4C1'] = np.where(df['I1R4C1']==1,1, 0)\n",
    "        df['V1R1C1'] = np.where(df['V1R1C1']==1,1, 0)\n",
    "        if 'CIIU4' in df.columns:\n",
    "            df.drop(['CIIU4'], axis = 'columns', inplace=True)\n",
    "        df.dropna(inplace =True, how = 'any')\n",
    "        df.reset_index(inplace =True, drop =True)\n",
    "\n",
    "\n",
    "def Nans(df):\n",
    "    for i in df.columns: \n",
    "        print('%20s'%i, df[i].dtype, np.sum(df[i].isna()))\n"
   ]
  },
  {
   "cell_type": "code",
   "execution_count": 4,
   "id": "ab817d45",
   "metadata": {},
   "outputs": [],
   "source": [
    "def Matrix(y_test, pred):\n",
    "    confusion = confusion_matrix(y_test, pred)\n",
    "    group_names = ['True Neg','False Pos','False Neg','True Pos']\n",
    "\n",
    "    group_counts = [\"{0:0.0f}\".format(value) for value in\n",
    "                    confusion.flatten()]\n",
    "\n",
    "    group_percentages = [\"{0:.2%}\".format(value) for value in\n",
    "                         confusion.flatten()/np.sum(confusion)]\n",
    "\n",
    "    labels = [f\"{v1}\\n{v2}\\n{v3}\" for v1, v2, v3 in\n",
    "              zip(group_names,group_counts,group_percentages)]\n",
    "\n",
    "    labels = np.asarray(labels).reshape(2,2)\n",
    "\n",
    "    ax = sns.heatmap(confusion, annot=labels, fmt='', cmap='Blues')\n",
    "\n",
    "    ax.set_title('Matriz de confusión\\n Union Base de datos\\n');\n",
    "    ax.set_xlabel('\\nValores predichos')\n",
    "    ax.set_ylabel('Valores Reales ');\n",
    "\n",
    "    ## Ticket labels - List must be in alphabetical order\n",
    "    ax.xaxis.set_ticklabels(['False','True'])\n",
    "    ax.yaxis.set_ticklabels(['False','True'])\n",
    "    plt.show()"
   ]
  },
  {
   "cell_type": "code",
   "execution_count": 5,
   "id": "93990a68",
   "metadata": {
    "slideshow": {
     "slide_type": "subslide"
    }
   },
   "outputs": [],
   "source": [
    "#Primero hacemos la estimación para el tema de la innovación\n",
    "Organizador(inno2,1, False)\n",
    "#Ademas, se realizó la metodologia de One-Hot Encoding (Para utilizar la información de las empresas)\n",
    "dum = pd.get_dummies(inno2['Entidad'], dtype= int, prefix='e_')\n",
    "\n",
    "inno2 = pd.concat([inno2, dum], axis = 1)"
   ]
  },
  {
   "cell_type": "code",
   "execution_count": 6,
   "id": "b6993d21",
   "metadata": {
    "slideshow": {
     "slide_type": "subslide"
    }
   },
   "outputs": [],
   "source": [
    "#Esto es para segmentar las 2 bases de datos. Esto luego es importante para la evaluacion del modelo\n",
    "inno21 = inno2[inno2.year == 2018]\n",
    "inno22 = inno2[inno2.year == 2017]\n",
    "inno21.reset_index(inplace =True, drop = True)\n",
    "inno22.reset_index(inplace = True, drop=True)"
   ]
  },
  {
   "cell_type": "markdown",
   "id": "c6486892",
   "metadata": {
    "slideshow": {
     "slide_type": "slide"
    }
   },
   "source": [
    "## Creacion del Analisis de Componentes Principales\n",
    "Esta parte es para disminuir la dimensionalidad de la información de las inversiones."
   ]
  },
  {
   "cell_type": "code",
   "execution_count": 7,
   "id": "a0fd14b4",
   "metadata": {
    "slideshow": {
     "slide_type": "subslide"
    }
   },
   "outputs": [
    {
     "data": {
      "text/plain": [
       "PCA(n_components=4)"
      ]
     },
     "execution_count": 7,
     "metadata": {},
     "output_type": "execute_result"
    }
   ],
   "source": [
    "#Se crea una base de datos con las variables\n",
    "compca = []\n",
    "for i in range(2,11): \n",
    "    compca.append('II1R{}C1'.format(i))\n",
    "#Se realiza la normalización\n",
    "\n",
    "dfpca = inno21[compca]\n",
    "X1 = scale(dfpca)\n",
    "dfpca2 = inno22[compca]\n",
    "X2 = scale(dfpca2)\n",
    "dfpca3 = inno2[compca]\n",
    "X = scale(dfpca3)\n",
    "\n",
    "#Se implementa el algoritmo de PCA\n",
    "pca = decomposition.PCA(n_components=4)\n",
    "pca1 = decomposition.PCA(n_components=4)\n",
    "pca2 = decomposition.PCA(n_components=4)\n",
    "pca2.fit(X2)\n",
    "pca1.fit(X1)\n",
    "pca.fit(X)"
   ]
  },
  {
   "cell_type": "code",
   "execution_count": 8,
   "id": "bc16749f",
   "metadata": {
    "slideshow": {
     "slide_type": "subslide"
    }
   },
   "outputs": [],
   "source": [
    "scores = pca1.transform(X)\n",
    "scores1 = pca1.transform(X1)\n",
    "scores2 = pca2.transform(X2)\n",
    "\n",
    "df_scores = pd.DataFrame(scores, columns=['PCA1', 'PCA2', 'PCA3', 'PCA4'])\n",
    "df_scores1 =  pd.DataFrame(scores1, columns=['PCA1', 'PCA2', 'PCA3', 'PCA4'])\n",
    "df_scores2 =  pd.DataFrame(scores2, columns=['PCA1', 'PCA2', 'PCA3', 'PCA4'])"
   ]
  },
  {
   "cell_type": "code",
   "execution_count": 9,
   "id": "dc98486d",
   "metadata": {
    "slideshow": {
     "slide_type": "subslide"
    }
   },
   "outputs": [
    {
     "name": "stdout",
     "output_type": "stream",
     "text": [
      "[0.31286393 0.1350727  0.1316644  0.11352267]\n",
      "[0.39072534 0.18008328 0.14546386 0.10064862]\n",
      "[0.3675714  0.13153113 0.12412471 0.11578531]\n"
     ]
    }
   ],
   "source": [
    "#La varianza explicada\n",
    "varianza1 = pca.explained_variance_ratio_\n",
    "print(varianza1)\n",
    "varianza2 = pca1.explained_variance_ratio_\n",
    "print(varianza2)\n",
    "varianza3 = pca2.explained_variance_ratio_\n",
    "print(varianza3)"
   ]
  },
  {
   "cell_type": "code",
   "execution_count": 10,
   "id": "39e1e196",
   "metadata": {
    "slideshow": {
     "slide_type": "subslide"
    }
   },
   "outputs": [],
   "source": [
    "#Se eliminan las varibles y luego se agrega los componentes.\n",
    "inno21.drop(compca, axis =1, inplace =True)\n",
    "inno22.drop(compca, axis =1, inplace =True)\n",
    "inno2.drop(compca, axis =1, inplace =True)\n",
    "############\n",
    "inno21 = pd.concat([inno21, df_scores1], axis = 1)\n",
    "inno22 = pd.concat([inno22, df_scores2], axis = 1)\n",
    "inno2 = pd.concat([inno2, df_scores], axis = 1)"
   ]
  },
  {
   "cell_type": "markdown",
   "id": "ef2bb24d",
   "metadata": {},
   "source": [
    "## Acercamiento de una relación lineal\n",
    "En esta parte se justifica la utilizacion de un modelo no-parametrico. No sabemos la distribucion de los datos. "
   ]
  },
  {
   "cell_type": "code",
   "execution_count": 30,
   "id": "a7a89ace",
   "metadata": {},
   "outputs": [
    {
     "data": {
      "image/png": "[encoded data removed]",
      "text/plain": [
       "<Figure size 432x288 with 2 Axes>"
      ]
     },
     "metadata": {
      "needs_background": "light"
     },
     "output_type": "display_data"
    }
   ],
   "source": [
    "dtal = pd.concat([inno22[['I3R2C1','II1R1C1', 'IV4R11C3']], inno21[['I3R2C1','II1R1C1', 'IV4R11C3']]],axis=0,ignore_index=True)\n",
    "\n",
    "\n",
    "# plt.plot(, y, 'o')\n",
    "\n",
    "def example_plot(ax, i):\n",
    "    dic = ['Monto Invertido', 'Q. Personas']\n",
    "    ax.plot(dtal.iloc[:,i],dtal.iloc[:,0],'o')\n",
    "    z = np.polyfit(dtal.iloc[:,i],dtal.iloc[:,0], 1)\n",
    "    p = np.poly1d(z)\n",
    "    ax.plot(dtal.iloc[:,i], p(dtal.iloc[:,i]),\"r--\")\n",
    "    ax.set_xlabel(dic[i-1], fontsize=12)\n",
    "    ax.set_ylabel('Ventas', fontsize=12)\n",
    "    l = 'Relación entre las ventas y {}'.format(dic[i-1])\n",
    "    ax.set_title(l, fontsize=14)\n",
    "    \n",
    "fig, axs = plt.subplots(nrows=2, ncols=1, constrained_layout=True)\n",
    "\n",
    "for i,ax in enumerate(axs.flat):\n",
    "    n= i+1\n",
    "    example_plot(ax,n)"
   ]
  },
  {
   "cell_type": "markdown",
   "id": "d9951229",
   "metadata": {
    "slideshow": {
     "slide_type": "slide"
    }
   },
   "source": [
    "## Creación de los valores de entranamiento y test\n",
    "Primero para el tema de innovación"
   ]
  },
  {
   "cell_type": "code",
   "execution_count": 12,
   "id": "3440c723",
   "metadata": {
    "slideshow": {
     "slide_type": "subslide"
    }
   },
   "outputs": [],
   "source": [
    "#En esta parte es para uno de los 2 analisis (Explicar*)\n",
    "xs= [ 'I1R4C1', 'II1R1C1', 'V1R1C1', 'IV4R11C3','PCA1', 'e__10', 'e__11', 'e__13', 'e__14', 'e__15', 'e__16', 'e__17', 'e__18',\n",
    "              'e__19', 'e__20', 'e__21', 'e__22', 'e__23', 'e__24', 'e__25', 'e__26',\n",
    "              'e__27', 'e__28', 'e__29', 'e__30', 'e__31', 'e__32', 'e__33', 'PCA2', 'PCA3', 'PCA4'] #\n",
    "ys = ['Tendencias']\n",
    "\n",
    "X_1 = inno21[xs]\n",
    "y_1 = inno21[ys]\n",
    "X_2 = inno22[xs]\n",
    "y_2 = inno22[ys]\n",
    "X = inno2[xs]\n",
    "y = inno2[ys]\n",
    "\n",
    "X_train, X_test, y_train, y_test = train_test_split(X, y, test_size=0.5, random_state=42)"
   ]
  },
  {
   "cell_type": "markdown",
   "id": "c6d3244b",
   "metadata": {
    "slideshow": {
     "slide_type": "slide"
    }
   },
   "source": [
    "## Modelación (Innovación)\n",
    "Explicar como se realiza la modelacion y como se realiza la evaluación"
   ]
  },
  {
   "cell_type": "code",
   "execution_count": 13,
   "id": "d0b2fad5",
   "metadata": {
    "slideshow": {
     "slide_type": "subslide"
    }
   },
   "outputs": [
    {
     "name": "stdout",
     "output_type": "stream",
     "text": [
      "GridSearch:: [[560  66]\n",
      " [318 506]]\n"
     ]
    }
   ],
   "source": [
    "#Utilizando las base de datos separadas\n",
    "#Entrenando con los datos mas viejos \n",
    "#Evaluando con los datos mas nuevos\n",
    "rf = RandomForestClassifier(random_state=42,class_weight='balanced')\n",
    "param_grid = { \n",
    "    'n_estimators': [100, 300 ,500],\n",
    "    'max_features': ['auto', 'sqrt', 'log2'],\n",
    "    'max_depth' : [4,5,6,7,8,10,11,12,13,14,50],\n",
    "    'criterion' :['gini', 'entropy']\n",
    "}\n",
    "cv_rfc2= GridSearchCV(estimator=rf, param_grid=param_grid, cv= 5)\n",
    "\n",
    "cv_rfc2.fit(X_2, y_2)\n",
    "pred_t = cv_rfc2.predict(X_1)\n",
    "confusion_1 = confusion_matrix(y_1, pred_t)\n",
    "print('GridSearch::', confusion_1)"
   ]
  },
  {
   "cell_type": "code",
   "execution_count": 14,
   "id": "094c1fbd",
   "metadata": {
    "slideshow": {
     "slide_type": "subslide"
    }
   },
   "outputs": [
    {
     "name": "stdout",
     "output_type": "stream",
     "text": [
      "\n",
      "      Separacion->\n",
      "      Accuracy: 0.7351724137931035\n",
      "      Precision: 0.8846153846153846\n",
      "      Recall: 0.6140776699029126\n",
      "      F1: 0.7249283667621775\n",
      "      \n"
     ]
    }
   ],
   "source": [
    "acu= accuracy_score(y_1, pred_t)\n",
    "prec = precision_score(y_1, pred_t)\n",
    "re = recall_score(y_1, pred_t)\n",
    "f1 = f1_score(y_1,pred_t)\n",
    "\n",
    "print('''\n",
    "      Separacion->\n",
    "      Accuracy: {}\n",
    "      Precision: {}\n",
    "      Recall: {}\n",
    "      F1: {}\n",
    "      '''.format(acu,prec,re, f1))"
   ]
  },
  {
   "cell_type": "code",
   "execution_count": 15,
   "id": "bd266406",
   "metadata": {
    "slideshow": {
     "slide_type": "subslide"
    }
   },
   "outputs": [
    {
     "data": {
      "image/png": "[encoded data removed]",
      "text/plain": [
       "<Figure size 432x288 with 2 Axes>"
      ]
     },
     "metadata": {
      "needs_background": "light"
     },
     "output_type": "display_data"
    }
   ],
   "source": [
    "Matrix(y_1,pred_t)"
   ]
  },
  {
   "cell_type": "code",
   "execution_count": 16,
   "id": "c9b667dd",
   "metadata": {
    "slideshow": {
     "slide_type": "subslide"
    }
   },
   "outputs": [
    {
     "name": "stdout",
     "output_type": "stream",
     "text": [
      "{'criterion': 'entropy', 'max_depth': 14, 'max_features': 'log2', 'n_estimators': 300}\n"
     ]
    }
   ],
   "source": [
    "#Se implementa estima el modelo encontrado\n",
    "print(cv_rfc2.best_params_)\n",
    "rf = RandomForestClassifier(random_state=42,class_weight='balanced',\n",
    "                           criterion= 'entropy', max_depth= 14, max_features= 'log2', n_estimators= 300)\n",
    "rf.fit(X_2, y_2)\n",
    "pred_t = rf.predict(X_1)"
   ]
  },
  {
   "cell_type": "code",
   "execution_count": 17,
   "id": "d9666be1",
   "metadata": {
    "slideshow": {
     "slide_type": "subslide"
    }
   },
   "outputs": [
    {
     "data": {
      "text/html": [
       "<div>\n",
       "<style scoped>\n",
       "    .dataframe tbody tr th:only-of-type {\n",
       "        vertical-align: middle;\n",
       "    }\n",
       "\n",
       "    .dataframe tbody tr th {\n",
       "        vertical-align: top;\n",
       "    }\n",
       "\n",
       "    .dataframe thead th {\n",
       "        text-align: right;\n",
       "    }\n",
       "</style>\n",
       "<table border=\"1\" class=\"dataframe\">\n",
       "  <thead>\n",
       "    <tr style=\"text-align: right;\">\n",
       "      <th></th>\n",
       "      <th>importance</th>\n",
       "    </tr>\n",
       "  </thead>\n",
       "  <tbody>\n",
       "    <tr>\n",
       "      <th>IV4R11C3</th>\n",
       "      <td>0.201111</td>\n",
       "    </tr>\n",
       "    <tr>\n",
       "      <th>PCA1</th>\n",
       "      <td>0.154977</td>\n",
       "    </tr>\n",
       "    <tr>\n",
       "      <th>PCA2</th>\n",
       "      <td>0.137989</td>\n",
       "    </tr>\n",
       "    <tr>\n",
       "      <th>PCA3</th>\n",
       "      <td>0.110139</td>\n",
       "    </tr>\n",
       "    <tr>\n",
       "      <th>PCA4</th>\n",
       "      <td>0.109482</td>\n",
       "    </tr>\n",
       "  </tbody>\n",
       "</table>\n",
       "</div>"
      ],
      "text/plain": [
       "          importance\n",
       "IV4R11C3    0.201111\n",
       "PCA1        0.154977\n",
       "PCA2        0.137989\n",
       "PCA3        0.110139\n",
       "PCA4        0.109482"
      ]
     },
     "execution_count": 17,
     "metadata": {},
     "output_type": "execute_result"
    }
   ],
   "source": [
    "#IV4R11C3 -> Total personal involucrado en Actividades Científicas, Tecnológicas y de Innovación\n",
    "feature_importances = pd.DataFrame(rf.feature_importances_, index = X_2.columns,  \n",
    "                                   columns=['importance']).sort_values('importance', ascending=False)\n",
    "feature_importances.head()"
   ]
  },
  {
   "cell_type": "code",
   "execution_count": 18,
   "id": "98d2f9f4",
   "metadata": {
    "slideshow": {
     "slide_type": "subslide"
    }
   },
   "outputs": [
    {
     "name": "stdout",
     "output_type": "stream",
     "text": [
      "GridSearch: [[611 124]\n",
      " [221 578]]\n"
     ]
    }
   ],
   "source": [
    "#En esta parte se realiza con los datos juntos\n",
    "rf = RandomForestClassifier(random_state=42,class_weight='balanced')\n",
    "param_grid = { \n",
    "    'n_estimators': [100, 300 ,500],\n",
    "    'max_features': ['auto', 'sqrt', 'log2'],\n",
    "    'max_depth' : [4,5,6,7,8,10,11,12,13,14,50],\n",
    "    'criterion' :['gini', 'entropy']\n",
    "}\n",
    "cv_rfc2= GridSearchCV(estimator=rf, param_grid=param_grid, cv= 5)\n",
    "cv_rfc2.fit(X_train, y_train)\n",
    "pred = cv_rfc2.predict(X_test)\n",
    "confusion = confusion_matrix(y_test, pred)\n",
    "print('GridSearch:', confusion)"
   ]
  },
  {
   "cell_type": "code",
   "execution_count": 19,
   "id": "508a15da",
   "metadata": {
    "slideshow": {
     "slide_type": "subslide"
    }
   },
   "outputs": [
    {
     "name": "stdout",
     "output_type": "stream",
     "text": [
      "Confusión Balanceado y con mejores parametros\n",
      " {} [[611 124]\n",
      " [221 578]]\n",
      "\n",
      "      Juntos->\n",
      "      Accuracy: 0.7750977835723598\n",
      "      Precision: 0.8233618233618234\n",
      "      Recall: 0.723404255319149\n",
      "      F1: 0.770153231179214\n",
      "      \n"
     ]
    }
   ],
   "source": [
    "#Metricas de evaluación\n",
    "confusion_test = confusion_matrix(y_test, pred)\n",
    "print('Confusión Balanceado y con mejores parametros\\n {}', confusion_test)\n",
    " \n",
    "acu= accuracy_score(y_test, pred)\n",
    "prec = precision_score(y_test, pred)\n",
    "re = recall_score(y_test, pred)\n",
    "f1 = f1_score(y_test,pred)\n",
    "\n",
    "print('''\n",
    "      Juntos->\n",
    "      Accuracy: {}\n",
    "      Precision: {}\n",
    "      Recall: {}\n",
    "      F1: {}\n",
    "      '''.format(acu,prec,re, f1))"
   ]
  },
  {
   "cell_type": "code",
   "execution_count": 20,
   "id": "7e982873",
   "metadata": {
    "slideshow": {
     "slide_type": "subslide"
    }
   },
   "outputs": [
    {
     "data": {
      "image/png": "[encoded data removed]",
      "text/plain": [
       "<Figure size 432x288 with 2 Axes>"
      ]
     },
     "metadata": {
      "needs_background": "light"
     },
     "output_type": "display_data"
    }
   ],
   "source": [
    "#Matriz de confusión\n",
    "Matrix(y_test,pred)"
   ]
  },
  {
   "cell_type": "code",
   "execution_count": 21,
   "id": "cecb2733",
   "metadata": {
    "slideshow": {
     "slide_type": "subslide"
    }
   },
   "outputs": [
    {
     "name": "stdout",
     "output_type": "stream",
     "text": [
      "{'criterion': 'entropy', 'max_depth': 14, 'max_features': 'log2', 'n_estimators': 300}\n"
     ]
    }
   ],
   "source": [
    "print(cv_rfc2.best_params_)\n",
    "rf = RandomForestClassifier(random_state=42,class_weight='balanced',\n",
    "                           criterion= 'entropy', max_depth= 14, max_features= 'log2', n_estimators= 300)\n",
    "rf.fit(X_train, y_train)\n",
    "pred_t = rf.predict(X_test)"
   ]
  },
  {
   "cell_type": "code",
   "execution_count": 22,
   "id": "679ff16f",
   "metadata": {
    "slideshow": {
     "slide_type": "subslide"
    }
   },
   "outputs": [
    {
     "data": {
      "text/html": [
       "<div>\n",
       "<style scoped>\n",
       "    .dataframe tbody tr th:only-of-type {\n",
       "        vertical-align: middle;\n",
       "    }\n",
       "\n",
       "    .dataframe tbody tr th {\n",
       "        vertical-align: top;\n",
       "    }\n",
       "\n",
       "    .dataframe thead th {\n",
       "        text-align: right;\n",
       "    }\n",
       "</style>\n",
       "<table border=\"1\" class=\"dataframe\">\n",
       "  <thead>\n",
       "    <tr style=\"text-align: right;\">\n",
       "      <th></th>\n",
       "      <th>importance</th>\n",
       "    </tr>\n",
       "  </thead>\n",
       "  <tbody>\n",
       "    <tr>\n",
       "      <th>IV4R11C3</th>\n",
       "      <td>0.182859</td>\n",
       "    </tr>\n",
       "    <tr>\n",
       "      <th>PCA1</th>\n",
       "      <td>0.157968</td>\n",
       "    </tr>\n",
       "    <tr>\n",
       "      <th>PCA4</th>\n",
       "      <td>0.137067</td>\n",
       "    </tr>\n",
       "    <tr>\n",
       "      <th>PCA2</th>\n",
       "      <td>0.119054</td>\n",
       "    </tr>\n",
       "    <tr>\n",
       "      <th>PCA3</th>\n",
       "      <td>0.110117</td>\n",
       "    </tr>\n",
       "  </tbody>\n",
       "</table>\n",
       "</div>"
      ],
      "text/plain": [
       "          importance\n",
       "IV4R11C3    0.182859\n",
       "PCA1        0.157968\n",
       "PCA4        0.137067\n",
       "PCA2        0.119054\n",
       "PCA3        0.110117"
      ]
     },
     "execution_count": 22,
     "metadata": {},
     "output_type": "execute_result"
    }
   ],
   "source": [
    "\n",
    "feature_importances = pd.DataFrame(rf.feature_importances_, index = X_2.columns,  \n",
    "                                   columns=['importance']).sort_values('importance', ascending=False)\n",
    "feature_importances.head()"
   ]
  },
  {
   "cell_type": "markdown",
   "id": "bd6a969b",
   "metadata": {
    "slideshow": {
     "slide_type": "slide"
    }
   },
   "source": [
    "## Modelación (Incentivos)\n",
    "Explicacion de este proceso. Que diferencia esto con lo otro. "
   ]
  },
  {
   "cell_type": "code",
   "execution_count": 23,
   "id": "48f1f13f",
   "metadata": {
    "slideshow": {
     "slide_type": "subslide"
    }
   },
   "outputs": [],
   "source": [
    "Organizador(ince2, 0, False)\n",
    "column = ['VIII13R1C1', 'VIII15R1C1',\n",
    "       'VIII14R4C1', 'Entidad', 'Tendencias']\n",
    "ince22 = ince2[column]"
   ]
  },
  {
   "cell_type": "code",
   "execution_count": 24,
   "id": "74c1286f",
   "metadata": {
    "slideshow": {
     "slide_type": "subslide"
    }
   },
   "outputs": [],
   "source": [
    "xs = ['VIII13R1C1', 'VIII15R1C1', 'VIII14R4C1']\n",
    "ys = ['Tendencias']\n",
    "\n",
    "\n",
    "X = ince22[xs]\n",
    "y = ince22[ys]\n",
    "\n",
    "X_train, X_test, y_train, y_test = train_test_split(X, y, test_size=0.5, random_state=42)"
   ]
  },
  {
   "cell_type": "code",
   "execution_count": 25,
   "id": "9d976d43",
   "metadata": {
    "slideshow": {
     "slide_type": "subslide"
    }
   },
   "outputs": [
    {
     "name": "stdout",
     "output_type": "stream",
     "text": [
      "GridSearch: [[259 129]\n",
      " [172 223]]\n"
     ]
    }
   ],
   "source": [
    "rf = RandomForestClassifier(random_state=42,class_weight='balanced')\n",
    "param_grid = { \n",
    "    'n_estimators': [100, 300 ,500],\n",
    "    'max_features': ['auto', 'sqrt', 'log2'],\n",
    "    'max_depth' : [4,5,6,7,8,10,11,12,13,14,15,16],\n",
    "    'criterion' :['gini', 'entropy']\n",
    "}\n",
    "cv_rfc2= GridSearchCV(estimator=rf, param_grid=param_grid, cv= 5)\n",
    "\n",
    "cv_rfc2.fit(X_train, y_train)\n",
    "pred = cv_rfc2.predict(X_test)\n",
    "confusion = confusion_matrix(y_test, pred)\n",
    "print('GridSearch:', confusion)"
   ]
  },
  {
   "cell_type": "code",
   "execution_count": 26,
   "id": "c23ca619",
   "metadata": {
    "slideshow": {
     "slide_type": "subslide"
    }
   },
   "outputs": [
    {
     "name": "stdout",
     "output_type": "stream",
     "text": [
      "              precision    recall  f1-score   support\n",
      "\n",
      "           0       0.60      0.67      0.63       388\n",
      "           1       0.63      0.56      0.60       395\n",
      "\n",
      "    accuracy                           0.62       783\n",
      "   macro avg       0.62      0.62      0.61       783\n",
      "weighted avg       0.62      0.62      0.61       783\n",
      "\n",
      "\n",
      "      Juntos->\n",
      "      Accuracy: 0.6155810983397191\n",
      "      Precision: 0.6335227272727273\n",
      "      Recall: 0.5645569620253165\n",
      "      F1: 0.5970548862115127\n",
      "      \n"
     ]
    }
   ],
   "source": [
    "from sklearn.metrics import classification_report\n",
    "\n",
    "print(classification_report(y_test, pred))\n",
    "\n",
    "acu= accuracy_score(y_test, pred)\n",
    "prec = precision_score(y_test, pred)\n",
    "re = recall_score(y_test, pred)\n",
    "f1 = f1_score(y_test,pred)\n",
    "\n",
    "print('''\n",
    "      Juntos->\n",
    "      Accuracy: {}\n",
    "      Precision: {}\n",
    "      Recall: {}\n",
    "      F1: {}\n",
    "      '''.format(acu,prec,re, f1))"
   ]
  },
  {
   "cell_type": "code",
   "execution_count": 27,
   "id": "f2bcfbf9",
   "metadata": {
    "slideshow": {
     "slide_type": "subslide"
    }
   },
   "outputs": [
    {
     "data": {
      "image/png": "[encoded data removed]",
      "text/plain": [
       "<Figure size 432x288 with 2 Axes>"
      ]
     },
     "metadata": {
      "needs_background": "light"
     },
     "output_type": "display_data"
    }
   ],
   "source": [
    "#Mirar si poner una funcion\n",
    "Matrix(y_test, pred)"
   ]
  },
  {
   "cell_type": "code",
   "execution_count": 28,
   "id": "d6258f5e",
   "metadata": {
    "slideshow": {
     "slide_type": "subslide"
    }
   },
   "outputs": [
    {
     "name": "stdout",
     "output_type": "stream",
     "text": [
      "{'criterion': 'gini', 'max_depth': 4, 'max_features': 'auto', 'n_estimators': 100}\n"
     ]
    }
   ],
   "source": [
    "print(cv_rfc2.best_params_)\n",
    "rf = RandomForestClassifier(random_state=42,class_weight='balanced',\n",
    "                           criterion= 'gini', max_depth= 4, max_features= 'auto', n_estimators= 100)\n",
    "rf.fit(X_train, y_train)\n",
    "pred_t = rf.predict(X_test)"
   ]
  },
  {
   "cell_type": "markdown",
   "id": "5e2912f1",
   "metadata": {},
   "source": [
    "VIII15R1C1 ¿qué porcentaje de los gerentes/as recibió un bono de desempeño?. 0%=1 1-33%=2 34-66%=3 67-99%=4 100%=5 No se alcanzaron los objetivos de producción=6\n",
    "\n",
    "VIII13R1C1 ¿qué porcentaje del personal ocupado diferente a los gerentes/as recibió un bono de desempeño?. 0%=1, 1-33%=2, 34-66%=3, 67-99%=4, 100%=5, No se alcanzaron los objetivos de producción=6\n",
    "\n",
    "VIII14R4C1 El desempeño de la empresa medido por las metas alcanzadas."
   ]
  },
  {
   "cell_type": "code",
   "execution_count": 29,
   "id": "c219c88f",
   "metadata": {
    "slideshow": {
     "slide_type": "subslide"
    }
   },
   "outputs": [
    {
     "data": {
      "text/html": [
       "<div>\n",
       "<style scoped>\n",
       "    .dataframe tbody tr th:only-of-type {\n",
       "        vertical-align: middle;\n",
       "    }\n",
       "\n",
       "    .dataframe tbody tr th {\n",
       "        vertical-align: top;\n",
       "    }\n",
       "\n",
       "    .dataframe thead th {\n",
       "        text-align: right;\n",
       "    }\n",
       "</style>\n",
       "<table border=\"1\" class=\"dataframe\">\n",
       "  <thead>\n",
       "    <tr style=\"text-align: right;\">\n",
       "      <th></th>\n",
       "      <th>importance</th>\n",
       "    </tr>\n",
       "  </thead>\n",
       "  <tbody>\n",
       "    <tr>\n",
       "      <th>VIII15R1C1</th>\n",
       "      <td>0.613999</td>\n",
       "    </tr>\n",
       "    <tr>\n",
       "      <th>VIII13R1C1</th>\n",
       "      <td>0.254661</td>\n",
       "    </tr>\n",
       "    <tr>\n",
       "      <th>VIII14R4C1</th>\n",
       "      <td>0.131340</td>\n",
       "    </tr>\n",
       "  </tbody>\n",
       "</table>\n",
       "</div>"
      ],
      "text/plain": [
       "            importance\n",
       "VIII15R1C1    0.613999\n",
       "VIII13R1C1    0.254661\n",
       "VIII14R4C1    0.131340"
      ]
     },
     "execution_count": 29,
     "metadata": {},
     "output_type": "execute_result"
    }
   ],
   "source": [
    "\n",
    "feature_importances = pd.DataFrame(rf.feature_importances_, index = X.columns,  \n",
    "                                   columns=['importance']).sort_values('importance', ascending=False)\n",
    "feature_importances.head()"
   ]
  },
  {
   "cell_type": "code",
   "execution_count": null,
   "id": "b4068835",
   "metadata": {},
   "outputs": [],
   "source": []
  }
 ],
 "metadata": {
  "celltoolbar": "Slideshow",
  "kernelspec": {
   "display_name": "Python 3 (Spyder)",
   "language": "python3",
   "name": "python3"
  },
  "language_info": {
   "codemirror_mode": {
    "name": "ipython",
    "version": 3
   },
   "file_extension": ".py",
   "mimetype": "text/x-python",
   "name": "python",
   "nbconvert_exporter": "python",
   "pygments_lexer": "ipython3",
   "version": "3.8.8"
  }
 },
 "nbformat": 4,
 "nbformat_minor": 5
}
